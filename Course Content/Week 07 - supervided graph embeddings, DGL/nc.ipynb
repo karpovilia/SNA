{
 "cells": [
  {
   "cell_type": "code",
   "execution_count": 18,
   "metadata": {},
   "outputs": [],
   "source": [
    "import os\n",
    "import math\n",
    "from copy import deepcopy\n",
    "from pathlib import Path\n",
    "import numpy as np\n",
    "import pandas as pd\n",
    "from scipy import stats\n",
    "\n",
    "import torch as th\n",
    "import torch.nn as nn\n",
    "from torch import optim\n",
    "import torch.nn.functional as F\n",
    "\n",
    "import matplotlib.pyplot as plt\n",
    "%matplotlib inline"
   ]
  },
  {
   "cell_type": "code",
   "execution_count": 19,
   "metadata": {},
   "outputs": [
    {
     "name": "stdout",
     "output_type": "stream",
     "text": [
      "PyTorch version: 2.0.1+cu117\n",
      "GPU: 11.7\n"
     ]
    }
   ],
   "source": [
    "print('PyTorch version:', th.__version__)\n",
    "print('GPU:', th.version.cuda)"
   ]
  },
  {
   "cell_type": "code",
   "execution_count": null,
   "metadata": {},
   "outputs": [],
   "source": [
    "#!pip install dgl-cu117 -f https://data.dgl.ai/wheels/repo.html"
   ]
  },
  {
   "cell_type": "code",
   "execution_count": 20,
   "metadata": {},
   "outputs": [],
   "source": [
    "def plot_losses(train_losses, val_losses, log=False):\n",
    "    fig, ax = plt.subplots(figsize=(8, 6))\n",
    "\n",
    "    ax.plot(train_losses, label='Train')\n",
    "    ax.plot(val_losses, label='Validation')\n",
    "    ax.set_xlabel('Epoch')\n",
    "    ax.set_ylabel('Cross Entropy Loss')\n",
    "    if log:\n",
    "        ax.set_yscale('log')\n",
    "    ax.legend()\n",
    "    ax.grid(True)"
   ]
  },
  {
   "cell_type": "code",
   "execution_count": 78,
   "metadata": {},
   "outputs": [],
   "source": [
    "def train_step(model, g, features, labels, train_mask, val_mask, optimizer, loss_fn):\n",
    "    \"\"\"Train one epoch\"\"\"\n",
    "    model.train()\n",
    "\n",
    "    optimizer.zero_grad()\n",
    "    logits = model(g, features)\n",
    "    loss = loss_fn(logits[train_mask], labels[train_mask])\n",
    "    loss.backward()\n",
    "    optimizer.step()\n",
    "    \n",
    "    with th.no_grad():\n",
    "        val_loss = loss_fn(logits[val_mask], labels[val_mask])\n",
    "    return loss.item(), val_loss.item()\n",
    "\n",
    "@th.no_grad()\n",
    "def test(model_cp, g, features, labels, split_idx, evaluator, best_path=None):\n",
    "    model = deepcopy(model_cp)\n",
    "\n",
    "    if best_path is not None:\n",
    "        model.load_state_dict(th.load(best_path))\n",
    "\n",
    "    model.eval()\n",
    "\n",
    "    features = g.ndata['feat']\n",
    "    logits = model(g, features)\n",
    "    y_pred = logits.argmax(1, keepdim=True)\n",
    "    \n",
    "    train_acc = evaluator.eval({'y_true': labels[split_idx['train']].reshape(-1, 1), \n",
    "                                'y_pred': y_pred[split_idx['train']]})['acc']\n",
    "    \n",
    "    valid_acc = evaluator.eval({'y_true': labels[split_idx['valid']].reshape(-1, 1),\n",
    "                                'y_pred': y_pred[split_idx['valid']]})['acc']\n",
    "    \n",
    "    test_acc = evaluator.eval({'y_true': labels[split_idx['test']].reshape(-1, 1),\n",
    "                               'y_pred': y_pred[split_idx['test']]})['acc']\n",
    "    \n",
    "    \n",
    "    return train_acc, valid_acc, test_acc\n",
    "\n",
    "def train(g, labels, split_idx, model, epochs, evaluator, device, save_path, loss_fn=F.cross_entropy, lr=0.01, es_criteria=5, verbose=False):\n",
    "    optimizer = optim.Adam(model.parameters(), lr=lr)\n",
    "    best_val_acc = 0\n",
    "    best_test_acc = 0\n",
    "    train_losses = []\n",
    "    val_losses = []\n",
    "\n",
    "    features = g.ndata['feat']\n",
    "\n",
    "    train_mask = split_idx['train'].to(device)\n",
    "    val_mask = split_idx['valid'].to(device)\n",
    "    test_mask = split_idx['test'].to(device)\n",
    "    es_iters = 0\n",
    "\n",
    "    for e in range(1, epochs+1):\n",
    "        train_loss, val_loss = train_step(model, g, features, labels, train_mask, val_mask, optimizer, loss_fn)\n",
    "        train_losses.append(train_loss)\n",
    "        val_losses.append(val_loss)\n",
    "\n",
    "        #Compute accuracy on training validation and test data\n",
    "        train_acc, val_acc, test_acc = test(model, g, features, labels, split_idx, evaluator)\n",
    "\n",
    "        if best_val_acc < val_acc:\n",
    "            best_val_acc = val_acc\n",
    "            best_test_acc = test_acc\n",
    "            th.save(model.state_dict(), save_path)\n",
    "            es_iters = 0\n",
    "        else:\n",
    "            es_iters += 1\n",
    "\n",
    "        if e % 50 == 0 and verbose:\n",
    "            print(f'Epoch: {e:03d}, Train Loss: {train_loss:.4f}, Val Loss: {val_acc:.4f}, Best Train Acc: {best_val_acc:.4f}, Test Acc: {test_acc:.4f} Best Test Acc: {best_test_acc:.4f}')\n",
    "\n",
    "        if es_iters >= es_criteria:\n",
    "            print(f'Early stopping at epoch {e}')\n",
    "            break\n",
    "                    \n",
    "    return np.array(train_losses), np.array(val_losses)"
   ]
  },
  {
   "cell_type": "code",
   "execution_count": 83,
   "metadata": {},
   "outputs": [],
   "source": [
    "os.environ['DGLBACKEND'] = 'pytorch'\n",
    "import dgl\n",
    "from dgl.nn.pytorch.conv import GraphConv\n",
    "from ogb.nodeproppred import DglNodePropPredDataset, Evaluator"
   ]
  },
  {
   "cell_type": "code",
   "execution_count": 84,
   "metadata": {},
   "outputs": [
    {
     "name": "stdout",
     "output_type": "stream",
     "text": [
      "Device: cuda\n"
     ]
    }
   ],
   "source": [
    "device = 'cuda' if th.cuda.is_available() else 'cpu'\n",
    "device = th.device(device)\n",
    "print('Device:', device)"
   ]
  },
  {
   "cell_type": "code",
   "execution_count": 27,
   "metadata": {},
   "outputs": [
    {
     "name": "stdout",
     "output_type": "stream",
     "text": [
      "Downloading http://snap.stanford.edu/ogb/data/nodeproppred/arxiv.zip\n"
     ]
    },
    {
     "name": "stderr",
     "output_type": "stream",
     "text": [
      "Downloaded 0.08 GB: 100%|██████████| 81/81 [00:29<00:00,  2.75it/s]\n"
     ]
    },
    {
     "name": "stdout",
     "output_type": "stream",
     "text": [
      "Extracting dataset/arxiv.zip\n",
      "Loading necessary files...\n",
      "This might take a while.\n",
      "Processing graphs...\n"
     ]
    },
    {
     "name": "stderr",
     "output_type": "stream",
     "text": [
      "100%|██████████| 1/1 [00:00<00:00, 15363.75it/s]\n"
     ]
    },
    {
     "name": "stdout",
     "output_type": "stream",
     "text": [
      "Converting graphs into DGL objects...\n"
     ]
    },
    {
     "name": "stderr",
     "output_type": "stream",
     "text": [
      "100%|██████████| 1/1 [00:00<00:00, 254.40it/s]"
     ]
    },
    {
     "name": "stdout",
     "output_type": "stream",
     "text": [
      "Saving...\n"
     ]
    },
    {
     "name": "stderr",
     "output_type": "stream",
     "text": [
      "\n"
     ]
    }
   ],
   "source": [
    "dataset = DglNodePropPredDataset(name='ogbn-arxiv', root='dataset/')"
   ]
  },
  {
   "cell_type": "code",
   "execution_count": 85,
   "metadata": {},
   "outputs": [],
   "source": [
    "val_acc_lb, val_acc_lb_var, test_acc_lb, test_acc_lb_var = 0.7300, 0.0017, 0.7174, 0.0029\n",
    "evaluator = Evaluator(name='ogbn-arxiv')"
   ]
  },
  {
   "cell_type": "code",
   "execution_count": 86,
   "metadata": {},
   "outputs": [],
   "source": [
    "split_idx = dataset.get_idx_split()\n",
    "g = dataset.graph[0].to(device)\n",
    "labels = dataset.labels.flatten().to(device)"
   ]
  },
  {
   "cell_type": "code",
   "execution_count": 87,
   "metadata": {},
   "outputs": [
    {
     "data": {
      "text/plain": [
       "1166243"
      ]
     },
     "execution_count": 87,
     "metadata": {},
     "output_type": "execute_result"
    }
   ],
   "source": [
    "g.num_edges()"
   ]
  },
  {
   "cell_type": "code",
   "execution_count": 88,
   "metadata": {},
   "outputs": [],
   "source": [
    "g = g.add_self_loop()\n",
    "g = dgl.add_reverse_edges(g)"
   ]
  },
  {
   "cell_type": "code",
   "execution_count": 89,
   "metadata": {},
   "outputs": [
    {
     "data": {
      "text/plain": [
       "2501829"
      ]
     },
     "execution_count": 89,
     "metadata": {},
     "output_type": "execute_result"
    }
   ],
   "source": [
    "g.num_edges()"
   ]
  },
  {
   "cell_type": "code",
   "execution_count": 90,
   "metadata": {},
   "outputs": [],
   "source": [
    "class GCN(nn.Module):\n",
    "    def __init__(self, in_feats, h_feats, num_classes, num_layers, add_bn=True, dropout=0):\n",
    "        \"\"\"\n",
    "        add_bn: Whether to add batch normalization layer after each graph convolution layer\n",
    "        \"\"\"\n",
    "        super(GCN, self).__init__()\n",
    "        \n",
    "        self.add_bn = add_bn\n",
    "        self.dropout = dropout\n",
    "        \n",
    "        #Input layer\n",
    "        self.convs = nn.ModuleList()\n",
    "        self.convs.append(GraphConv(in_feats, h_feats)) # in_feats -> h_feats\n",
    "        if self.add_bn:\n",
    "            self.bns = nn.ModuleList()\n",
    "            self.bns.append(nn.BatchNorm1d(h_feats))\n",
    "\n",
    "        #Hidden layers\n",
    "        for _ in range(num_layers - 2):\n",
    "            self.convs.append(GraphConv(h_feats, h_feats)) # h_feats -> h_feats   \n",
    "            if self.add_bn:\n",
    "                self.bns.append(nn.BatchNorm1d(h_feats))\n",
    "        \n",
    "        #Output layer\n",
    "        self.convs.append(GraphConv(h_feats, num_classes)) # h_feats -> num_classes\n",
    "        \n",
    "    def forward(self, g, in_feat):\n",
    "        h = in_feat\n",
    "        for i, conv in enumerate(self.convs[:-1]):\n",
    "            h = conv(g, h)\n",
    "            if self.add_bn:\n",
    "                h = self.bns[i](h)\n",
    "            h = F.relu(h)\n",
    "            h = F.dropout(h, p=self.dropout, training=self.training)\n",
    "        h = self.convs[-1](g, h)\n",
    "        return h"
   ]
  },
  {
   "cell_type": "code",
   "execution_count": 91,
   "metadata": {},
   "outputs": [],
   "source": [
    "model_kwargs = dict(\n",
    "    in_feats=g.ndata['feat'].shape[1],\n",
    "    h_feats=256,\n",
    "    num_classes=dataset.num_classes,\n",
    "    num_layers=3,\n",
    "    dropout=0.5,\n",
    "    add_bn=True\n",
    ")\n",
    "model = GCN(**model_kwargs).to(device)"
   ]
  },
  {
   "cell_type": "code",
   "execution_count": 92,
   "metadata": {},
   "outputs": [
    {
     "data": {
      "text/plain": [
       "GCN(\n",
       "  (convs): ModuleList(\n",
       "    (0): GraphConv(in=128, out=256, normalization=both, activation=None)\n",
       "    (1): GraphConv(in=256, out=256, normalization=both, activation=None)\n",
       "    (2): GraphConv(in=256, out=40, normalization=both, activation=None)\n",
       "  )\n",
       "  (bns): ModuleList(\n",
       "    (0-1): 2 x BatchNorm1d(256, eps=1e-05, momentum=0.1, affine=True, track_running_stats=True)\n",
       "  )\n",
       ")"
      ]
     },
     "execution_count": 92,
     "metadata": {},
     "output_type": "execute_result"
    }
   ],
   "source": [
    "model"
   ]
  },
  {
   "cell_type": "code",
   "execution_count": 93,
   "metadata": {},
   "outputs": [
    {
     "data": {
      "text/plain": [
       "110120"
      ]
     },
     "execution_count": 93,
     "metadata": {},
     "output_type": "execute_result"
    }
   ],
   "source": [
    "model_params = sum(p.numel() for p in model.parameters() if p.requires_grad)\n",
    "model_params"
   ]
  },
  {
   "cell_type": "code",
   "execution_count": 94,
   "metadata": {},
   "outputs": [],
   "source": [
    "model_path = 'models/'\n",
    "Path(model_path).mkdir(parents=True, exist_ok=True)\n",
    "gcn_path = os.path.join(model_path, 'gcn_base.model')"
   ]
  },
  {
   "cell_type": "code",
   "execution_count": 95,
   "metadata": {},
   "outputs": [],
   "source": [
    "train_args = dict(\n",
    "    g=g,\n",
    "    labels=labels,\n",
    "    split_idx=split_idx,\n",
    "    epochs=500,\n",
    "    evaluator=evaluator,    \n",
    "    device=device,\n",
    "    save_path=gcn_path,\n",
    "    lr=5e-3,\n",
    "    es_criteria=50)"
   ]
  },
  {
   "cell_type": "code",
   "execution_count": 96,
   "metadata": {},
   "outputs": [
    {
     "name": "stdout",
     "output_type": "stream",
     "text": [
      "Epoch: 050, Train Loss: 1.0393, Val Loss: 0.6943, Best Train Acc: 0.6955, Test Acc: 0.6851 Best Test Acc: 0.6868\n",
      "Epoch: 100, Train Loss: 0.9384, Val Loss: 0.7139, Best Train Acc: 0.7186, Test Acc: 0.7010 Best Test Acc: 0.7115\n",
      "Epoch: 150, Train Loss: 0.8807, Val Loss: 0.7189, Best Train Acc: 0.7229, Test Acc: 0.7095 Best Test Acc: 0.7137\n",
      "Epoch: 200, Train Loss: 0.8421, Val Loss: 0.7204, Best Train Acc: 0.7252, Test Acc: 0.7056 Best Test Acc: 0.7165\n",
      "Epoch: 250, Train Loss: 0.8122, Val Loss: 0.7268, Best Train Acc: 0.7289, Test Acc: 0.7169 Best Test Acc: 0.7189\n",
      "Epoch: 300, Train Loss: 0.7834, Val Loss: 0.7238, Best Train Acc: 0.7294, Test Acc: 0.7109 Best Test Acc: 0.7177\n",
      "Epoch: 350, Train Loss: 0.7648, Val Loss: 0.7292, Best Train Acc: 0.7309, Test Acc: 0.7144 Best Test Acc: 0.7194\n",
      "Epoch: 400, Train Loss: 0.7452, Val Loss: 0.7209, Best Train Acc: 0.7324, Test Acc: 0.7139 Best Test Acc: 0.7171\n",
      "Early stopping at epoch 407\n"
     ]
    }
   ],
   "source": [
    "train_losses, val_losses = train(model=model, verbose=True, **train_args)"
   ]
  },
  {
   "cell_type": "code",
   "execution_count": 97,
   "metadata": {},
   "outputs": [
    {
     "data": {
      "image/png": "[encoded data removed]",
      "text/plain": [
       "<Figure size 800x600 with 1 Axes>"
      ]
     },
     "metadata": {},
     "output_type": "display_data"
    }
   ],
   "source": [
    "plot_losses(train_losses, val_losses)"
   ]
  },
  {
   "cell_type": "code",
   "execution_count": 116,
   "metadata": {},
   "outputs": [],
   "source": [
    "def loge(x, labels):\n",
    "    epsilon = 1 - math.log(2)\n",
    "    z = F.cross_entropy(x, labels, reduction='none')\n",
    "    y = th.log(epsilon + z) - math.log(epsilon)\n",
    "    return y.mean()"
   ]
  },
  {
   "cell_type": "code",
   "execution_count": 117,
   "metadata": {},
   "outputs": [],
   "source": [
    "model_loge_kwargs = dict(\n",
    "    in_feats=g.ndata['feat'].shape[1],\n",
    "    h_feats=256,\n",
    "    num_classes=dataset.num_classes,\n",
    "    num_layers=3,\n",
    "    dropout=0.5,\n",
    "    add_bn=True\n",
    ")\n",
    "model_loge = GCN(**model_loge_kwargs).to(device)"
   ]
  },
  {
   "cell_type": "code",
   "execution_count": 118,
   "metadata": {},
   "outputs": [],
   "source": [
    "gcn_loge_path = os.path.join(model_path, 'gcn_loge.model')"
   ]
  },
  {
   "cell_type": "code",
   "execution_count": 119,
   "metadata": {},
   "outputs": [],
   "source": [
    "train_loge_args = dict(\n",
    "    g=g,\n",
    "    labels=labels,\n",
    "    split_idx=split_idx,\n",
    "    epochs=500,\n",
    "    evaluator=evaluator,\n",
    "    device=device,\n",
    "    save_path=gcn_loge_path,\n",
    "    lr=5e-3,\n",
    "    es_criteria=50,\n",
    "    loss_fn=loge)"
   ]
  },
  {
   "cell_type": "code",
   "execution_count": 120,
   "metadata": {},
   "outputs": [
    {
     "name": "stdout",
     "output_type": "stream",
     "text": [
      "Epoch: 050, Train Loss: 0.9007, Val Loss: 0.7018, Best Train Acc: 0.7018, Test Acc: 0.6952 Best Test Acc: 0.6952\n",
      "Epoch: 100, Train Loss: 0.8103, Val Loss: 0.7218, Best Train Acc: 0.7220, Test Acc: 0.7129 Best Test Acc: 0.7139\n",
      "Epoch: 150, Train Loss: 0.7661, Val Loss: 0.7185, Best Train Acc: 0.7305, Test Acc: 0.6999 Best Test Acc: 0.7159\n",
      "Epoch: 200, Train Loss: 0.7370, Val Loss: 0.7201, Best Train Acc: 0.7306, Test Acc: 0.7009 Best Test Acc: 0.7227\n",
      "Epoch: 250, Train Loss: 0.7165, Val Loss: 0.7283, Best Train Acc: 0.7319, Test Acc: 0.7239 Best Test Acc: 0.7227\n",
      "Early stopping at epoch 264\n"
     ]
    }
   ],
   "source": [
    "train_losses, val_losses = train(model=model_loge, verbose=True, **train_loge_args)"
   ]
  },
  {
   "cell_type": "code",
   "execution_count": 104,
   "metadata": {},
   "outputs": [
    {
     "data": {
      "image/png": "[encoded data removed]",
      "text/plain": [
       "<Figure size 800x600 with 1 Axes>"
      ]
     },
     "metadata": {},
     "output_type": "display_data"
    }
   ],
   "source": [
    "plot_losses(train_losses, val_losses)"
   ]
  },
  {
   "cell_type": "code",
   "execution_count": 106,
   "metadata": {},
   "outputs": [],
   "source": [
    "class GCNwLinear(nn.Module):\n",
    "    def __init__(self, in_feats, h_feats, num_classes, num_layers, dropout):\n",
    "        super(GCNwLinear, self).__init__()\n",
    "        \n",
    "        self.dropout = dropout\n",
    "        self.num_layers = num_layers\n",
    "\n",
    "        # Layer containers\n",
    "        self.convs = nn.ModuleList()\n",
    "        self.bns = nn.ModuleList()\n",
    "        self.linear = nn.ModuleList()\n",
    "        \n",
    "        # Input layer\n",
    "        self.input_drop = nn.Dropout(min(0.1, dropout))\n",
    "        self.convs.append(GraphConv(in_feats, h_feats, bias=False))\n",
    "        self.bns.append(nn.BatchNorm1d(h_feats))\n",
    "        self.linear.append(nn.Linear(in_feats, h_feats, bias=False))\n",
    "\n",
    "        # Hidden layers \n",
    "        for _ in range(num_layers - 2):\n",
    "            self.convs.append(GraphConv(h_feats, h_feats, bias=False))\n",
    "            self.bns.append(nn.BatchNorm1d(h_feats))\n",
    "            self.linear.append(nn.Linear(h_feats, h_feats, bias=False))\n",
    "        \n",
    "        # Output layer\n",
    "        self.convs.append(GraphConv(h_feats, num_classes, bias=False))\n",
    "        self.linear.append(nn.Linear(h_feats, num_classes, bias=False))\n",
    "\n",
    "    def forward(self, g, in_feat):\n",
    "        h = in_feat\n",
    "        h = self.input_drop(h)\n",
    "\n",
    "        for i in range(self.num_layers):\n",
    "            c = self.convs[i](g, h)\n",
    "            linear = self.linear[i](h)\n",
    "\n",
    "            h = c + linear\n",
    "\n",
    "            if i < self.num_layers - 1:\n",
    "                h = self.bns[i](h)\n",
    "                h = F.relu(h)\n",
    "                h = F.dropout(h, p=self.dropout, training=self.training)\n",
    "        \n",
    "        return h        "
   ]
  },
  {
   "cell_type": "code",
   "execution_count": 123,
   "metadata": {},
   "outputs": [],
   "source": [
    "model_linear_kwargs = dict(\n",
    "    in_feats=g.ndata['feat'].shape[1],\n",
    "    h_feats=256,\n",
    "    num_classes=dataset.num_classes,\n",
    "    num_layers=6,\n",
    "    dropout=0.5)\n",
    "model_linear = GCNwLinear(**model_linear_kwargs).to(device)"
   ]
  },
  {
   "cell_type": "code",
   "execution_count": 124,
   "metadata": {},
   "outputs": [],
   "source": [
    "gcn_linear_path = os.path.join(model_path, 'gcn_linear.model')\n",
    "# https://arxiv.org/pdf/2103.13355.pdf\n",
    "# https://arxiv.org/pdf/2108.10521.pdf\n",
    "# https://cs.stanford.edu/people/jure/pubs/gcnlpa-tois21.pdf"
   ]
  },
  {
   "cell_type": "code",
   "execution_count": 125,
   "metadata": {},
   "outputs": [],
   "source": [
    "train_linear_args = dict(\n",
    "    g=g,\n",
    "    labels=labels,\n",
    "    split_idx=split_idx,\n",
    "    epochs=500,\n",
    "    evaluator=evaluator,\n",
    "    device=device,\n",
    "    save_path=gcn_linear_path,\n",
    "    lr=5e-3,\n",
    "    es_criteria=50,\n",
    "    loss_fn=loge) \n"
   ]
  },
  {
   "cell_type": "code",
   "execution_count": 126,
   "metadata": {},
   "outputs": [
    {
     "name": "stdout",
     "output_type": "stream",
     "text": [
      "Epoch: 050, Train Loss: 0.9441, Val Loss: 0.6946, Best Train Acc: 0.6947, Test Acc: 0.6918 Best Test Acc: 0.6883\n",
      "Epoch: 100, Train Loss: 0.8385, Val Loss: 0.7261, Best Train Acc: 0.7261, Test Acc: 0.7065 Best Test Acc: 0.7065\n",
      "Epoch: 150, Train Loss: 0.7938, Val Loss: 0.7202, Best Train Acc: 0.7329, Test Acc: 0.6955 Best Test Acc: 0.7170\n",
      "Early stopping at epoch 167\n"
     ]
    }
   ],
   "source": [
    "train_losses, val_losses = train(model=model_linear, verbose=True, **train_linear_args)"
   ]
  },
  {
   "cell_type": "code",
   "execution_count": 127,
   "metadata": {},
   "outputs": [
    {
     "data": {
      "image/png": "[encoded data removed]",
      "text/plain": [
       "<Figure size 800x600 with 1 Axes>"
      ]
     },
     "metadata": {},
     "output_type": "display_data"
    }
   ],
   "source": [
    "plot_losses(train_losses, val_losses)"
   ]
  },
  {
   "cell_type": "code",
   "execution_count": null,
   "metadata": {},
   "outputs": [],
   "source": []
  }
 ],
 "metadata": {
  "kernelspec": {
   "display_name": "Python 3",
   "language": "python",
   "name": "python3"
  },
  "language_info": {
   "codemirror_mode": {
    "name": "ipython",
    "version": 3
   },
   "file_extension": ".py",
   "mimetype": "text/x-python",
   "name": "python",
   "nbconvert_exporter": "python",
   "pygments_lexer": "ipython3",
   "version": "3.10.8"
  },
  "orig_nbformat": 4
 },
 "nbformat": 4,
 "nbformat_minor": 2
}
